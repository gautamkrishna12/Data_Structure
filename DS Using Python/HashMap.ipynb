{
 "cells": [
  {
   "cell_type": "code",
   "execution_count": 1,
   "id": "c83872b0-43f9-4937-9fac-cae3f8db2f33",
   "metadata": {},
   "outputs": [],
   "source": [
    "class Hash_table():\n",
    "\n",
    "    def __init__(self,t_size):\n",
    "        self.table_size=t_size\n",
    "        self.table=[None for i in range(self.table_size)]\n",
    "\n",
    "    def Get_Hash(self,key):\n",
    "        hash=0\n",
    "        for k in key:\n",
    "            hash+=ord(k)\n",
    "        return hash%self.table_size\n",
    "        \n",
    "    def Get_element(self,key):\n",
    "        return self.table[self.Get_Hash(key)]\n",
    "\n",
    "    def Add_element(self,key,data):\n",
    "        self.table[self.Get_Hash(key)]=data\n",
    "\n",
    "    def Del_element(self,key):\n",
    "        self.table[self.Get_Hash(key)]=None"
   ]
  },
  {
   "cell_type": "code",
   "execution_count": 2,
   "id": "ab97c40b-4b57-454c-a528-a6eb88a10d89",
   "metadata": {},
   "outputs": [],
   "source": [
    "HashtTable=Hash_table(10)"
   ]
  },
  {
   "cell_type": "code",
   "execution_count": 3,
   "id": "726afad7-e119-4e0c-be54-b94abe83a807",
   "metadata": {},
   "outputs": [],
   "source": [
    "HashtTable.Add_element(\"Stark\",10)"
   ]
  },
  {
   "cell_type": "code",
   "execution_count": 4,
   "id": "ada644a0-cf82-4431-a24f-2fbf6f456c67",
   "metadata": {},
   "outputs": [
    {
     "data": {
      "text/plain": [
       "10"
      ]
     },
     "execution_count": 4,
     "metadata": {},
     "output_type": "execute_result"
    }
   ],
   "source": [
    "HashtTable.Get_element(\"Stark\")"
   ]
  },
  {
   "cell_type": "code",
   "execution_count": 5,
   "id": "9961b58e-5c82-4c14-b61f-399af95fa5b8",
   "metadata": {},
   "outputs": [],
   "source": [
    "HashtTable.Add_element(\"Steve\",20)"
   ]
  },
  {
   "cell_type": "code",
   "execution_count": 6,
   "id": "11a0fbb0-73e8-4027-a340-7a80fa3a160e",
   "metadata": {},
   "outputs": [
    {
     "data": {
      "text/plain": [
       "9"
      ]
     },
     "execution_count": 6,
     "metadata": {},
     "output_type": "execute_result"
    }
   ],
   "source": [
    "HashtTable.Get_Hash(\"Steve\")"
   ]
  },
  {
   "cell_type": "code",
   "execution_count": 7,
   "id": "b26c992a-7d0a-42db-9734-f5efa030f6be",
   "metadata": {},
   "outputs": [],
   "source": [
    "#Collision Handling"
   ]
  },
  {
   "cell_type": "code",
   "execution_count": 8,
   "id": "c6784468-9d26-4ff5-a151-0dc36d44c9a8",
   "metadata": {},
   "outputs": [],
   "source": [
    "class Hash_table():\n",
    "\n",
    "    def __init__(self,t_size):\n",
    "        self.table_size=t_size\n",
    "        self.table=[[] for i in range(self.table_size)]\n",
    "\n",
    "    def Get_Hash(self,key):\n",
    "        hash=0\n",
    "        for k in key:\n",
    "            hash+=ord(k)\n",
    "        return hash%self.table_size\n",
    "        \n",
    "    def __getitem__(self,key):\n",
    "        ind=self.Get_Hash(key)\n",
    "        for i in self.table[ind]:\n",
    "            if i[0]==key:\n",
    "                return i[1]\n",
    "\n",
    "    def __setitem__(self,key,data):\n",
    "        ind=self.Get_Hash(key)\n",
    "        self.table[ind].append((key,data))\n",
    "\n",
    "    def __delitem__(self,key):\n",
    "        ind=self.Get_Hash(key)\n",
    "        for i,j in enumerate(self.table[ind]):\n",
    "            if j[0]==key:\n",
    "               return self.table[ind].pop(i)"
   ]
  },
  {
   "cell_type": "code",
   "execution_count": 9,
   "id": "4dab82ab-d322-4c5f-8f20-c70eaab929a2",
   "metadata": {},
   "outputs": [],
   "source": [
    "ht=Hash_table(10)"
   ]
  },
  {
   "cell_type": "code",
   "execution_count": 10,
   "id": "e48d3c1b-c5b7-422e-ba4e-7f33cf1f263f",
   "metadata": {},
   "outputs": [],
   "source": [
    "ht[\"Peter\"]=10"
   ]
  },
  {
   "cell_type": "code",
   "execution_count": 11,
   "id": "10e20949-5c83-4def-8edf-148dad18f8d1",
   "metadata": {},
   "outputs": [
    {
     "data": {
      "text/plain": [
       "10"
      ]
     },
     "execution_count": 11,
     "metadata": {},
     "output_type": "execute_result"
    }
   ],
   "source": [
    "ht[\"Peter\"]"
   ]
  },
  {
   "cell_type": "code",
   "execution_count": 12,
   "id": "39c722e5-24f2-4f70-bad8-ef11b42df3d7",
   "metadata": {},
   "outputs": [],
   "source": [
    "ht[\"M\"]=100"
   ]
  },
  {
   "cell_type": "code",
   "execution_count": 13,
   "id": "199ae563-7138-424a-99ad-f79a6cbf55e4",
   "metadata": {},
   "outputs": [],
   "source": [
    "ht[\"Mn\"]=200"
   ]
  },
  {
   "cell_type": "code",
   "execution_count": 14,
   "id": "f9c758b5-4ac3-4df6-8aa0-1a9016d46110",
   "metadata": {},
   "outputs": [
    {
     "data": {
      "text/plain": [
       "7"
      ]
     },
     "execution_count": 14,
     "metadata": {},
     "output_type": "execute_result"
    }
   ],
   "source": [
    "ht.Get_Hash(\"M\")"
   ]
  },
  {
   "cell_type": "code",
   "execution_count": 15,
   "id": "3785b5c0-388e-4f67-8580-956ae72a6cc8",
   "metadata": {},
   "outputs": [
    {
     "data": {
      "text/plain": [
       "7"
      ]
     },
     "execution_count": 15,
     "metadata": {},
     "output_type": "execute_result"
    }
   ],
   "source": [
    "ht.Get_Hash(\"M\")"
   ]
  },
  {
   "cell_type": "code",
   "execution_count": 16,
   "id": "7047117c-3457-4f6d-af27-ced730b5cefd",
   "metadata": {},
   "outputs": [
    {
     "data": {
      "text/plain": [
       "[[], [], [('Peter', 10)], [], [], [], [], [('M', 100), ('Mn', 200)], [], []]"
      ]
     },
     "execution_count": 16,
     "metadata": {},
     "output_type": "execute_result"
    }
   ],
   "source": [
    "ht.table"
   ]
  },
  {
   "cell_type": "code",
   "execution_count": 17,
   "id": "9ee35902-2185-439e-a16e-11122290021d",
   "metadata": {},
   "outputs": [
    {
     "data": {
      "text/plain": [
       "100"
      ]
     },
     "execution_count": 17,
     "metadata": {},
     "output_type": "execute_result"
    }
   ],
   "source": [
    "ht['M']"
   ]
  },
  {
   "cell_type": "code",
   "execution_count": 18,
   "id": "696c494c-4d3c-4603-a072-f451809007d1",
   "metadata": {},
   "outputs": [
    {
     "data": {
      "text/plain": [
       "('Mn', 200)"
      ]
     },
     "execution_count": 18,
     "metadata": {},
     "output_type": "execute_result"
    }
   ],
   "source": [
    "ht.__delitem__(\"Mn\")"
   ]
  },
  {
   "cell_type": "code",
   "execution_count": null,
   "id": "7d2f317e-1d78-42b6-8d40-42a36e659d82",
   "metadata": {},
   "outputs": [],
   "source": []
  }
 ],
 "metadata": {
  "kernelspec": {
   "display_name": "Python 3 (ipykernel)",
   "language": "python",
   "name": "python3"
  },
  "language_info": {
   "codemirror_mode": {
    "name": "ipython",
    "version": 3
   },
   "file_extension": ".py",
   "mimetype": "text/x-python",
   "name": "python",
   "nbconvert_exporter": "python",
   "pygments_lexer": "ipython3",
   "version": "3.12.4"
  }
 },
 "nbformat": 4,
 "nbformat_minor": 5
}
