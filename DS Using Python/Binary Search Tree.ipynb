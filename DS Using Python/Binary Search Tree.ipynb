{
 "cells": [
  {
   "cell_type": "code",
   "execution_count": 40,
   "id": "00d42fc7-2d57-4d25-b65e-6e1fca3eb726",
   "metadata": {},
   "outputs": [],
   "source": [
    "class BinarySearchTree():\n",
    "    \n",
    "    def __init__(self,data):\n",
    "        self.Data=data\n",
    "        self.Left=None\n",
    "        self.Right=None\n",
    "\n",
    "    def add_child(self,data):\n",
    "        \n",
    "        if self.Data==data:\n",
    "            return\n",
    "\n",
    "        if data>self.Data:\n",
    "            if self.Right:\n",
    "                self.Right.add_child(data)\n",
    "            else:\n",
    "                self.Right=BinarySearchTree(data)\n",
    "        else:\n",
    "            if self.Left:\n",
    "                self.Left.add_child(data)\n",
    "            else:\n",
    "                self.Left=BinarySearchTree(data)\n",
    "\n",
    "    def Search(self,data):\n",
    "        \n",
    "        if self.Data==data:\n",
    "            return True\n",
    "        \n",
    "        if self.Data<data:\n",
    "            if self.Right:\n",
    "                self.Right.Search(data)\n",
    "            else:\n",
    "                return False\n",
    "        else:\n",
    "            if self.Left:\n",
    "                self.Left.Search(data)\n",
    "            else:\n",
    "                return False\n",
    "\n",
    "    def Inorder(self):\n",
    "        \n",
    "        data_inorder=[]\n",
    "        \n",
    "        if self.Left:\n",
    "            data_inorder+=self.Left.Inorder()\n",
    "            \n",
    "        data_inorder.append(self.Data)\n",
    "\n",
    "        if self.Right:\n",
    "            data_inorder+=self.Right.Inorder()\n",
    "\n",
    "        return data_inorder\n",
    "\n",
    "    def Preorder(self):\n",
    "\n",
    "        data_pre=[]\n",
    "\n",
    "        data_pre.append(self.Data)\n",
    "\n",
    "        if self.Left:\n",
    "            data_pre+=self.Left.Preorder()\n",
    "\n",
    "        if self.Right:\n",
    "            data_pre+=self.Right.Preorder()\n",
    "\n",
    "        return data_pre\n",
    "\n",
    "    def Postorder(self):\n",
    "\n",
    "        data_post=[]\n",
    "\n",
    "        if self.Left:\n",
    "            data_post+=self.Left.Postorder()\n",
    "\n",
    "        if self.Right:\n",
    "            data_post+=self.Right.Postorder()\n",
    "\n",
    "        data_post.append(self.Data)\n",
    "\n",
    "        return data_post\n"
   ]
  },
  {
   "cell_type": "code",
   "execution_count": 42,
   "id": "0d0f73f7-f0f7-4ac3-8731-b33fd94c678d",
   "metadata": {},
   "outputs": [],
   "source": [
    "BST=BinarySearchTree(10)"
   ]
  },
  {
   "cell_type": "code",
   "execution_count": 44,
   "id": "0d5a9f8f-dd18-41a1-ad2c-378cf5cdd74c",
   "metadata": {},
   "outputs": [],
   "source": [
    "BST.add_child(20)\n",
    "BST.add_child(15)\n",
    "BST.add_child(7)\n",
    "BST.add_child(5)\n",
    "BST.add_child(10)\n",
    "BST.add_child(200)\n",
    "BST.add_child(30)"
   ]
  },
  {
   "cell_type": "code",
   "execution_count": 46,
   "id": "17149761-472a-4cdb-9f19-85f25ed5ae69",
   "metadata": {},
   "outputs": [
    {
     "data": {
      "text/plain": [
       "[5, 7, 10, 15, 20, 30, 200]"
      ]
     },
     "execution_count": 46,
     "metadata": {},
     "output_type": "execute_result"
    }
   ],
   "source": [
    "BST.Inorder()"
   ]
  },
  {
   "cell_type": "code",
   "execution_count": 48,
   "id": "19e1a59e-0e92-42a0-bb3d-12eb1d28d70e",
   "metadata": {},
   "outputs": [
    {
     "data": {
      "text/plain": [
       "[10, 7, 5, 20, 15, 200, 30]"
      ]
     },
     "execution_count": 48,
     "metadata": {},
     "output_type": "execute_result"
    }
   ],
   "source": [
    "BST.Preorder()"
   ]
  },
  {
   "cell_type": "code",
   "execution_count": 50,
   "id": "8b6b531c-9521-4005-b419-e92b6ab7abf9",
   "metadata": {},
   "outputs": [
    {
     "data": {
      "text/plain": [
       "[5, 7, 15, 30, 200, 20, 10]"
      ]
     },
     "execution_count": 50,
     "metadata": {},
     "output_type": "execute_result"
    }
   ],
   "source": [
    "BST.Postorder()"
   ]
  },
  {
   "cell_type": "code",
   "execution_count": null,
   "id": "7500d3f4-c8b2-42bf-845c-61dcd2c1a279",
   "metadata": {},
   "outputs": [],
   "source": []
  },
  {
   "cell_type": "code",
   "execution_count": null,
   "id": "c9720018-e4d8-4a66-9311-a9c55b7ede19",
   "metadata": {},
   "outputs": [],
   "source": []
  }
 ],
 "metadata": {
  "kernelspec": {
   "display_name": "Python 3 (ipykernel)",
   "language": "python",
   "name": "python3"
  },
  "language_info": {
   "codemirror_mode": {
    "name": "ipython",
    "version": 3
   },
   "file_extension": ".py",
   "mimetype": "text/x-python",
   "name": "python",
   "nbconvert_exporter": "python",
   "pygments_lexer": "ipython3",
   "version": "3.12.4"
  }
 },
 "nbformat": 4,
 "nbformat_minor": 5
}
